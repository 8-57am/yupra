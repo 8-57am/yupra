{
  "cells": [
    {
      "cell_type": "code",
      "execution_count": 23,
      "id": "d06188ce-a23b-4503-aafb-97659c9cd113",
      "metadata": {
        "id": "d06188ce-a23b-4503-aafb-97659c9cd113",
        "outputId": "77970d83-cd99-480d-ccd8-a98c1605b56d",
        "colab": {
          "base_uri": "https://localhost:8080/"
        }
      },
      "outputs": [
        {
          "output_type": "stream",
          "name": "stdout",
          "text": [
            "fatal: destination path 'vplanet_inference' already exists and is not an empty directory.\n"
          ]
        }
      ],
      "source": [
        "!git clone https://github.com/jbirky/vplanet_inference"
      ]
    },
    {
      "cell_type": "code",
      "source": [
        "!git clone https://github.com/VirtualPlanetaryLaboratory/vplanet.git\n",
        "\n",
        "import subprocess\n",
        "subprocess.call([\"python setup.py develop\"], cwd=\"vplanet\", shell=True)"
      ],
      "metadata": {
        "colab": {
          "base_uri": "https://localhost:8080/"
        },
        "id": "E9AapbpK5FrQ",
        "outputId": "c7927f84-de86-486e-f913-e563afb61a4c"
      },
      "id": "E9AapbpK5FrQ",
      "execution_count": 6,
      "outputs": [
        {
          "output_type": "stream",
          "name": "stdout",
          "text": [
            "Cloning into 'vplanet'...\n",
            "remote: Enumerating objects: 37189, done.\u001b[K\n",
            "remote: Counting objects: 100% (12551/12551), done.\u001b[K\n",
            "remote: Compressing objects: 100% (2198/2198), done.\u001b[K\n",
            "remote: Total 37189 (delta 10366), reused 12353 (delta 10199), pack-reused 24638\u001b[K\n",
            "Receiving objects: 100% (37189/37189), 163.50 MiB | 22.83 MiB/s, done.\n",
            "Resolving deltas: 100% (27232/27232), done.\n"
          ]
        }
      ]
    },
    {
      "cell_type": "code",
      "source": [
        "import sys\n",
        "sys.path.append(\"vplanet\")\n",
        "sys.path.append(\"vplanet_inference\")\n",
        "import vplanet\n",
        "import vplanet_inference as vpi\n",
        "\n",
        "import numpy as np\n",
        "from astropy import units as u\n",
        "import matplotlib.pyplot as plt\n",
        "from matplotlib import rc\n",
        "rc('xtick', labelsize=16)\n",
        "rc('ytick', labelsize=16)\n",
        "rc('axes', labelsize=16)\n",
        "from matplotlib import rcParams\n",
        "rcParams['font.family'] = 'sans-serif'\n",
        "rcParams['font.sans-serif'] = ['DejaVu Sans']\n",
        "rc('text', usetex=False)\n",
        "import os"
      ],
      "metadata": {
        "id": "9u8w394wj60u"
      },
      "id": "9u8w394wj60u",
      "execution_count": 46,
      "outputs": []
    },
    {
      "cell_type": "code",
      "source": [
        "inpath = \"vplanet_inference/infiles/stellar/\"\n",
        "outpath = \"output/\"\n",
        "\n",
        "inparams = {\"star.dMass\": u.Msun,\n",
        "            \"vpl.dStopTime\": u.Gyr}\n",
        "\n",
        "outparams = {\"final.star.Radius\": u.Rsun,\n",
        "             \"final.star.Luminosity\": u.Lsun}\n",
        "\n",
        "# Initialize the vplanet model\n",
        "vpm = vpi.VplanetModel(inparams=inparams,\n",
        "                       outparams=outparams,\n",
        "                       inpath=inpath,\n",
        "                       outpath=outpath,\n",
        "                       timesteps=1e6*u.yr,\n",
        "                       time_init=5e6*u.yr)"
      ],
      "metadata": {
        "id": "jYYpgvVX_4g0"
      },
      "id": "jYYpgvVX_4g0",
      "execution_count": 56,
      "outputs": []
    },
    {
      "cell_type": "code",
      "source": [
        "# Run the vplanet model\n",
        "theta = np.array([1.0, 2.5])\n",
        "evol = vpm.run_model(theta, remove=False, outsubpath=\"demo_star\")"
      ],
      "metadata": {
        "colab": {
          "base_uri": "https://localhost:8080/"
        },
        "id": "4M1CvdSnAYQK",
        "outputId": "65a879dd-af67-4dd0-aba3-93c47091f76e"
      },
      "id": "4M1CvdSnAYQK",
      "execution_count": 57,
      "outputs": [
        {
          "output_type": "stream",
          "name": "stdout",
          "text": [
            "\n",
            "Input:\n",
            "-----------------\n",
            "star.dMass : 1.0 [solMass] (user)   --->   1.988409870698051e+30 [kg] (vpl file)\n",
            "vpl.dStopTime : 2.5 [Gyr] (user)   --->   7.8894e+16 [s] (vpl file)\n",
            "\n",
            "Created file output//demo_star/vpl.in\n",
            "Created file output//demo_star/star.in\n"
          ]
        },
        {
          "output_type": "stream",
          "name": "stderr",
          "text": [
            "WARNING:vplanet:Error processing line 56 of system.log: 'kg*m^2/sec^2/(m^2*sec)' contains multiple slashes, which is discouraged by the FITS standard\n",
            "WARNING:vplanet:Error processing line 58 of system.log: 'kg*m^2/sec^2/(m^2*sec)' contains multiple slashes, which is discouraged by the FITS standard\n",
            "WARNING:vplanet:Error processing line 101 of system.log: 'kg*m^2/sec^2/(m^2*sec)' contains multiple slashes, which is discouraged by the FITS standard\n",
            "WARNING:vplanet:Error processing line 103 of system.log: 'kg*m^2/sec^2/(m^2*sec)' contains multiple slashes, which is discouraged by the FITS standard\n"
          ]
        },
        {
          "output_type": "stream",
          "name": "stdout",
          "text": [
            "Executed model output//demo_star/vpl.in 9.700 s\n",
            "\n",
            "Output:\n",
            "-----------------\n",
            "final.star.Luminosity : 0.8341883490073144 [solLum]\n",
            "final.star.Radius : 0.9542404772171913 [solRad]\n",
            "\n"
          ]
        }
      ]
    },
    {
      "cell_type": "code",
      "source": [
        "plt.figure(figsize=[8,6])\n",
        "plt.plot(evol[\"Time\"], evol[\"final.star.Luminosity\"])\n",
        "plt.xscale(\"log\")\n",
        "plt.yscale(\"log\")\n",
        "plt.show()"
      ],
      "metadata": {
        "colab": {
          "base_uri": "https://localhost:8080/",
          "height": 533
        },
        "id": "uEjyU1LvAlrg",
        "outputId": "95da8bc4-b2ca-4fca-a041-b30f84fc0b0b"
      },
      "id": "uEjyU1LvAlrg",
      "execution_count": 58,
      "outputs": [
        {
          "output_type": "display_data",
          "data": {
            "text/plain": [
              "<Figure size 800x600 with 1 Axes>"
            ],
            "image/png": "[encoded data removed]"
          },
          "metadata": {}
        }
      ]
    },
    {
      "cell_type": "code",
      "source": [
        "log = vplanet.get_output(\"output/demo_star\")"
      ],
      "metadata": {
        "id": "jXc6yL0hrT1I",
        "outputId": "7fbe9e6d-6493-4bc4-8db2-78057ff07ead",
        "colab": {
          "base_uri": "https://localhost:8080/"
        }
      },
      "id": "jXc6yL0hrT1I",
      "execution_count": 60,
      "outputs": [
        {
          "output_type": "stream",
          "name": "stderr",
          "text": [
            "WARNING:vplanet:Error processing line 56 of system.log: 'kg*m^2/sec^2/(m^2*sec)' contains multiple slashes, which is discouraged by the FITS standard\n",
            "WARNING:vplanet:Error processing line 58 of system.log: 'kg*m^2/sec^2/(m^2*sec)' contains multiple slashes, which is discouraged by the FITS standard\n",
            "WARNING:vplanet:Error processing line 101 of system.log: 'kg*m^2/sec^2/(m^2*sec)' contains multiple slashes, which is discouraged by the FITS standard\n",
            "WARNING:vplanet:Error processing line 103 of system.log: 'kg*m^2/sec^2/(m^2*sec)' contains multiple slashes, which is discouraged by the FITS standard\n"
          ]
        }
      ]
    },
    {
      "cell_type": "code",
      "source": [],
      "metadata": {
        "id": "nhYj6jJk0oxA"
      },
      "id": "nhYj6jJk0oxA",
      "execution_count": 67,
      "outputs": []
    }
  ],
  "metadata": {
    "kernelspec": {
      "display_name": "Python 3 (ipykernel)",
      "language": "python",
      "name": "python3"
    },
    "language_info": {
      "codemirror_mode": {
        "name": "ipython",
        "version": 3
      },
      "file_extension": ".py",
      "mimetype": "text/x-python",
      "name": "python",
      "nbconvert_exporter": "python",
      "pygments_lexer": "ipython3",
      "version": "3.9.12"
    },
    "colab": {
      "provenance": []
    }
  },
  "nbformat": 4,
  "nbformat_minor": 5
}